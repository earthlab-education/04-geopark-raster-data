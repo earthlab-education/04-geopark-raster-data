{
  "cells": [
    {
      "cell_type": "markdown",
      "metadata": {
        "id": "LvHE9Oc9Rds-"
      },
      "source": [
        "<img src=\"https://inhabitat.com/wp-content/blogs.dir/1/files/2018/04/Amazon-rainforest-gets-personhood.jpg\" height=400 width=1300>\n",
        "\n",
        "Here we will have a look at **raster** data through an application using data from NASA's Carbon Monitoring System (CMS) program. We will focus on the small municipality of Puerto Asís in the Colombian Amazon and look at changes in Landsat-derived landuse between 2002 and 2016. Data for this notebook were downloaded from NASA'S [EarthData](https://www.earthdata.nasa.gov/) library and hosted on [CyVerse](https://cyverse.org/) for cloud-based computing. If you would like to download the data for yourself you can access it here [https://daac.ornl.gov/cgi-bin/dsviewer.pl?ds_id=1783](https://daac.ornl.gov/cgi-bin/dsviewer.pl?ds_id=1783).\n",
        "\n",
        "\n",
        "📚 You can read more about working with raster data and the `rioxarray` library here:\n",
        "> * [Earth Data Science Textbook](https://www.earthdatascience.org/courses/use-data-open-source-python/intro-raster-data-python/fundamentals-raster-data/open-lidar-raster-python-xarray/)\n",
        "> * [Rioxarray documentation](https://corteva.github.io/rioxarray/stable/getting_started/getting_started.html)"
      ]
    },
    {
      "cell_type": "code",
      "execution_count": null,
      "metadata": {
        "id": "T8sITWskRdtA"
      },
      "outputs": [],
      "source": [
        "# Import Python libraries\n",
        "import matplotlib.pyplot as plt\n",
        "import pandas as pd\n",
        "import geopandas as gpd\n",
        "import earthpy.plot as ep\n",
        "import rioxarray as rxr"
      ]
    },
    {
      "cell_type": "markdown",
      "metadata": {
        "id": "UUO_mbMnvkEX"
      },
      "source": [
        "## Working with **vector** data (.shp) to define the boundary"
      ]
    },
    {
      "cell_type": "code",
      "execution_count": null,
      "metadata": {
        "id": "_rLxsDINRdtB"
      },
      "outputs": [],
      "source": [
        "# Define link to Colombia Municipalities shp url from\n",
        "# (https://maps.princeton.edu/catalog/tufts-colombia-municipalities-11)\n",
        "\n",
        "col_muni_url = ('https://maps.princeton.edu/download/file'\n",
        "                '/tufts-colombia-municipalities-11-shapefile.zip')\n",
        "\n",
        "# Open data using geopandas\n"
      ]
    },
    {
      "cell_type": "code",
      "execution_count": null,
      "metadata": {
        "id": "VK2Bc9snRdtB"
      },
      "outputs": [],
      "source": [
        "# Plot the geodataframe using Matplotlib\n"
      ]
    },
    {
      "cell_type": "code",
      "execution_count": null,
      "metadata": {
        "id": "NNOkm-HLRdtB"
      },
      "outputs": [],
      "source": [
        "# Select Putumayo Department, print the CRS, and call the data\n"
      ]
    },
    {
      "cell_type": "code",
      "execution_count": null,
      "metadata": {
        "id": "VbD6MbGKRdtB"
      },
      "outputs": [],
      "source": [
        "# Plot Putumayo using .plot()\n"
      ]
    },
    {
      "cell_type": "code",
      "execution_count": null,
      "metadata": {
        "id": "5FoaMkQ5RdtC"
      },
      "outputs": [],
      "source": [
        "# Select Puerto Asís from Putumayo\n"
      ]
    },
    {
      "cell_type": "code",
      "execution_count": null,
      "metadata": {
        "id": "YtoSxQ6GRdtC"
      },
      "outputs": [],
      "source": [
        "# NOTE: the following syntax also works to select/subset data\n"
      ]
    },
    {
      "cell_type": "code",
      "execution_count": null,
      "metadata": {
        "id": "kQN6ecwtRdtC"
      },
      "outputs": [],
      "source": [
        "# Plot Puerto Asís\n"
      ]
    },
    {
      "cell_type": "markdown",
      "metadata": {
        "id": "hgRVUCkVvr-W"
      },
      "source": [
        "## Opening and clipping **raster** data"
      ]
    },
    {
      "cell_type": "code",
      "execution_count": null,
      "metadata": {
        "id": "5Pwg7DUfRdtC"
      },
      "outputs": [],
      "source": [
        "# Define url to 2002 raster data\n",
        "raster_2002_url = (\"https://data.cyverse.org/dav-anon/iplant/home/shared/\"\n",
        "                   \"earthlab/geopark/landcover_colombian_amazon_2002.tif\")"
      ]
    },
    {
      "cell_type": "code",
      "execution_count": null,
      "metadata": {
        "id": "EF7k4ZvWRdtD"
      },
      "outputs": [],
      "source": [
        "# Define url to 2016 raster data\n",
        "raster_2016_url = (\"https://data.cyverse.org/dav-anon/iplant/home/shared/\"\n",
        "                   \"earthlab/geopark/landcover_colombian_amazon_2016.tif\")"
      ]
    },
    {
      "cell_type": "code",
      "execution_count": null,
      "metadata": {
        "id": "_5vEFcuBRdtD"
      },
      "outputs": [],
      "source": [
        "# Reproject Puerto Asís shp to same CRS as raster (EPSG:32618) and plot\n"
      ]
    },
    {
      "cell_type": "code",
      "execution_count": null,
      "metadata": {
        "id": "9pngWZt3RdtD"
      },
      "outputs": [],
      "source": [
        "# Open and clip the 2002 raster data to the Puerto Asis boundary using rioxarray\n"
      ]
    },
    {
      "cell_type": "code",
      "execution_count": null,
      "metadata": {
        "id": "Z3L-fbCNRdtD"
      },
      "outputs": [],
      "source": [
        "# Check CRS of the raster data\n"
      ]
    },
    {
      "cell_type": "code",
      "execution_count": null,
      "metadata": {
        "id": "qBO406DLRdtD"
      },
      "outputs": [],
      "source": [
        "# Open and clip the 2016 raster data to the Puerto Asis boundary using rioxarray\n"
      ]
    },
    {
      "cell_type": "code",
      "execution_count": null,
      "metadata": {
        "id": "qBoYC1rSRdtD"
      },
      "outputs": [],
      "source": [
        "# Plot the raster clipped to Puerto Asís (2002)\n"
      ]
    },
    {
      "cell_type": "markdown",
      "metadata": {
        "id": "Cg-FxHPjv4d0"
      },
      "source": [
        "## Creating a categorical color map"
      ]
    },
    {
      "cell_type": "code",
      "execution_count": null,
      "metadata": {
        "id": "sD6T-sR6RdtD"
      },
      "outputs": [],
      "source": [
        "# Customizing the cmap (ChatGPT)\n",
        "import numpy as np\n",
        "from matplotlib.colors import ListedColormap, BoundaryNorm\n",
        "\n",
        "# NOTE: Colors and landuses from the CMS User Guide:\n",
        "# https://daac.ornl.gov/CMS/guides/Landcover_Colombian_Amazon.html\n",
        "\n",
        "cms_colors = ['black',\n",
        "              'forestgreen',\n",
        "              'orange',\n",
        "              'purple',\n",
        "              'darkgoldenrod',\n",
        "              'limegreen',\n",
        "              'tab:blue',\n",
        "              'yellow']\n",
        "\n",
        "cms_cmap = ListedColormap(cms_colors)"
      ]
    },
    {
      "cell_type": "code",
      "execution_count": null,
      "metadata": {
        "id": "5CFpd7NZRdtD"
      },
      "outputs": [],
      "source": [
        "# Create a dummy array to map colors to\n",
        "dummy_data = np.arange(8).reshape(1, -1)\n",
        "\n",
        "# Plot the colorbar\n",
        "plt.imshow(dummy_data, cmap=cms_cmap, aspect='auto', vmin=0, vmax=8)\n",
        "plt.colorbar(ticks=np.arange(8))\n",
        "plt.show()"
      ]
    },
    {
      "cell_type": "code",
      "execution_count": null,
      "metadata": {
        "id": "zBw6o8jbRdtD"
      },
      "outputs": [],
      "source": [
        "# Create custom labels ()\n",
        "\n",
        "# Define labels\n",
        "landuse_labels = [\"Unclassified\",\n",
        "                  \"Forest\",\n",
        "                  \"Natural Grassland\",\n",
        "                  \"Urban\",\n",
        "                  \"Pasture\",\n",
        "                  \"Secondary Forest\",\n",
        "                  \"Water\",\n",
        "                  \"Highly Reflective Surface\"]\n",
        "\n",
        "# Define bins\n",
        "class_bins = [0,1,2,3,4,5,6,7,10]\n",
        "\n",
        "# Define norm\n",
        "norm = BoundaryNorm(class_bins,\n",
        "                    len(cms_colors))"
      ]
    },
    {
      "cell_type": "code",
      "execution_count": null,
      "metadata": {
        "id": "DkrbC4D9RdtD"
      },
      "outputs": [],
      "source": [
        "# Creating the legend elements\n",
        "\n",
        "from matplotlib.lines import Line2D\n",
        "\n",
        "legend_elements = [Line2D([0], [0], color='black', lw=18, label='Unclassified',),\n",
        "                   Line2D([0], [0], color='forestgreen', lw=18, label='Forest'),\n",
        "                   Line2D([0], [0], color='orange', lw=18, label='Natural Grassland'),\n",
        "                   Line2D([0], [0], color='purple', lw=18, label='Urban'),\n",
        "                   Line2D([0], [0], color='darkgoldenrod', lw=18, label='Pasture'),\n",
        "                   Line2D([0], [0], color='limegreen', lw=18, label='Secondary Forest'),\n",
        "                   Line2D([0], [0], color='tab:blue', lw=18, label='Water'),\n",
        "                   Line2D([0], [0], color='yellow', lw=18, label='Highly Reflective Surface')]\n"
      ]
    },
    {
      "cell_type": "markdown",
      "metadata": {
        "id": "iGscv5q3wAoP"
      },
      "source": [
        "## Plotting clipped **raster** data"
      ]
    },
    {
      "cell_type": "code",
      "execution_count": null,
      "metadata": {
        "id": "ahO3RkahRdtE",
        "outputId": "5b751c82-17e9-4c61-d427-ec0e14cf28c6"
      },
      "outputs": [],
      "source": [
        "# Plot the raster clipped to Puerto Asís (2002)"
      ]
    },
    {
      "cell_type": "code",
      "execution_count": null,
      "metadata": {
        "id": "AVw1IrFWRdtE",
        "outputId": "a4eb54a3-93ed-4065-bc83-8f3acf5f1482"
      },
      "outputs": [],
      "source": [
        "# Plot the raster clipped to Puerto Asís (2016)\n"
      ]
    },
    {
      "cell_type": "code",
      "execution_count": null,
      "metadata": {
        "id": "yymNylECRdtE",
        "outputId": "2c94bbc6-4c5c-4716-8e0a-8162c389c18b"
      },
      "outputs": [],
      "source": [
        "# Creating histograms of 2002 pixel counts\n"
      ]
    },
    {
      "cell_type": "code",
      "execution_count": null,
      "metadata": {
        "id": "4YDB0G-kRdtE",
        "outputId": "e31cef1e-36b1-4922-bd3c-1d9cd5a661ba"
      },
      "outputs": [],
      "source": [
        "# Creating histograms of 2016 pixel counts\n"
      ]
    },
    {
      "cell_type": "code",
      "execution_count": null,
      "metadata": {
        "id": "rXyaVuQ6RdtE",
        "outputId": "51020192-5f45-4b6b-edd5-196e1f5c4379"
      },
      "outputs": [],
      "source": [
        "#Plot histograms side-by-side\n"
      ]
    }
  ],
  "metadata": {
    "colab": {
      "provenance": []
    },
    "kernelspec": {
      "display_name": "base",
      "language": "python",
      "name": "python3"
    },
    "language_info": {
      "codemirror_mode": {
        "name": "ipython",
        "version": 3
      },
      "file_extension": ".py",
      "mimetype": "text/x-python",
      "name": "python",
      "nbconvert_exporter": "python",
      "pygments_lexer": "ipython3",
      "version": "3.10.11"
    }
  },
  "nbformat": 4,
  "nbformat_minor": 0
}
